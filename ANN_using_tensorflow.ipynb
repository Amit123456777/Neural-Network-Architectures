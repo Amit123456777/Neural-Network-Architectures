{
 "cells": [
  {
   "cell_type": "markdown",
   "metadata": {
    "id": "rivohdljP13F"
   },
   "source": [
    "**Simplest SLP**\n"
   ]
  },
  {
   "cell_type": "code",
   "execution_count": null,
   "metadata": {
    "id": "l0b2biDs_9Tg"
   },
   "outputs": [],
   "source": [
    "import numpy as np\n",
    "import tensorflow as tf\n",
    "from tensorflow.keras.models import Sequential\n",
    "from tensorflow.keras.layers import Dense\n",
    "\n",
    "# Define the model\n",
    "model = Sequential([\n",
    "    Dense(1, input_shape=(1,), activation='sigmoid')  # Single neuron with sigmoid activation\n",
    "])\n",
    "\n",
    "# Compile the model \n",
    "model.compile(optimizer='sgd', loss='binary_crossentropy',\n",
    "              metrics=['accuracy'])\n",
    "\n",
    "np.random.seed(0)\n",
    "X = np.random.rand(100).reshape(-1, 1)  # Shape for input layer\n",
    "y = np.array([1 if x >= 0.5 else 0 for x in X])  # Label: <0.5 => 0, >=0.5 => 1\n",
    "\n",
    "# Train the model without epoch output\n",
    "model.fit(X, y, epochs=10, verbose=0)\n",
    "\n",
    "# Function to get user input and classify it\n",
    "def user_input_classification():\n",
    "    user_input = float(input(\"Enter a number between 0 and 1: \"))  # Expecting valid float input\n",
    "    if 0 <= user_input <= 1:\n",
    "        prediction = model.predict(np.array([user_input]))  # Predict with the trained model\n",
    "        classification = 1 if prediction > 0.5 else 0\n",
    "        print(f\"Perceptron classification: {classification}\")\n",
    "    else:\n",
    "        print(\"Please enter a number between 0 and 1.\")\n",
    "\n",
    "# Classify user input\n",
    "user_input_classification()\n",
    "\n"
   ]
  },
  {
   "cell_type": "markdown",
   "metadata": {
    "id": "NMe-j_dsF9-i"
   },
   "source": [
    "**Code with two input neurons**"
   ]
  },
  {
   "cell_type": "code",
   "execution_count": 6,
   "metadata": {
    "colab": {
     "base_uri": "https://localhost:8080/"
    },
    "id": "O-ronDbPF-nh",
    "outputId": "8005a034-044a-4f94-802f-650cd3132074"
   },
   "outputs": [
    {
     "name": "stdout",
     "output_type": "stream",
     "text": [
      "Enter first number between 0 and 1: 0.5\n",
      "Enter second number between 0 and 1: 0.4\n",
      "\u001b[1m1/1\u001b[0m \u001b[32m━━━━━━━━━━━━━━━━━━━━\u001b[0m\u001b[37m\u001b[0m \u001b[1m0s\u001b[0m 31ms/step\n",
      "Perceptron classification: 0\n"
     ]
    }
   ],
   "source": [
    "import numpy as np\n",
    "import tensorflow as tf\n",
    "from tensorflow.keras.models import Sequential\n",
    "from tensorflow.keras.layers import Dense\n",
    "\n",
    "# Define the model with two input neurons\n",
    "model = Sequential([\n",
    "    Dense(1, input_shape=(2,), activation='sigmoid')\n",
    "])\n",
    "\n",
    "# Compile the model\n",
    "model.compile(optimizer='sgd', loss='binary_crossentropy', metrics=['accuracy'])\n",
    "\n",
    "# Generate random training data with two features\n",
    "np.random.seed(0)\n",
    "X = np.random.rand(100, 2)  # Each row now has two values\n",
    "y = np.array([1 if x[0] >= 0.5 and  x[1] >= 0.5 else 0 for x in X])  # Label based on sum of features\n",
    "\n",
    "# Train the model with more epochs for accuracy\n",
    "model.fit(X, y, epochs=500, verbose=0)  # Increased epochs\n",
    "\n",
    "# Function to get user input and classify it\n",
    "def user_input_classification():\n",
    "    # Collect two user inputs\n",
    "    user_input1 = float(input(\"Enter first number between 0 and 1: \"))\n",
    "    user_input2 = float(input(\"Enter second number between 0 and 1: \"))\n",
    "\n",
    "    # Clamp each input to the range [0, 1]\n",
    "    #user_input1 = max(0, min(user_input1, 1))\n",
    "    #user_input2 = max(0, min(user_input2, 1))\n",
    "\n",
    "    # Reshape inputs for prediction\n",
    "    user_inputs = np.array([[user_input1, user_input2]])\n",
    "\n",
    "    # Predict and classify\n",
    "    prediction = model.predict(user_inputs)\n",
    "    classification = int(prediction[0][0] >= 0.5)  # Threshold at 0.5\n",
    "    print(f\"Perceptron classification: {classification}\")\n",
    "\n",
    "# Classify user input\n",
    "user_input_classification()"
   ]
  },
  {
   "cell_type": "markdown",
   "metadata": {
    "id": "mCKa_JwUJiD3"
   },
   "source": [
    "**Code with additional hidden layer and two input neurons**"
   ]
  },
  {
   "cell_type": "code",
   "execution_count": null,
   "metadata": {
    "id": "ZmNOj6EEJi3V"
   },
   "outputs": [],
   "source": [
    "import numpy as np\n",
    "import tensorflow as tf\n",
    "from tensorflow.keras.models import Sequential\n",
    "from tensorflow.keras.layers import Dense\n",
    "\n",
    "# Define the model with a hidden layer of two neurons and an output layer\n",
    "model = Sequential([\n",
    "    Dense(2, input_shape=(2,), activation='sigmoid'),   # Hidden layer with 2 neurons and ReLU activation\n",
    "    Dense(1, activation='sigmoid')                   # Output layer with 1 neuron and sigmoid activation\n",
    "])\n",
    "\n",
    "# Compile the model\n",
    "model.compile(optimizer='sgd', loss='binary_crossentropy', metrics=['accuracy'])\n",
    "\n",
    "# Generate random training data with two features\n",
    "np.random.seed(0)\n",
    "X = np.random.rand(100, 2)  # Each row now has two values\n",
    "y = np.array([1 if x[0] + x[1] >= 1 else 0 for x in X])  # Label based on sum of features\n",
    "\n",
    "# Train the model with more epochs for accuracy\n",
    "model.fit(X, y, epochs=500, verbose=0)  # Increased epochs\n",
    "\n",
    "# Function to get user input and classify it\n",
    "def user_input_classification():\n",
    "    # Collect two user inputs\n",
    "    user_input1 = float(input(\"Enter first number between 0 and 1: \"))\n",
    "    user_input2 = float(input(\"Enter second number between 0 and 1: \"))\n",
    "\n",
    "    # Clamp each input to the range [0, 1]\n",
    "    user_input1 = max(0, min(user_input1, 1))\n",
    "    user_input2 = max(0, min(user_input2, 1))\n",
    "\n",
    "    # Reshape inputs for prediction\n",
    "    user_inputs = np.array([[user_input1, user_input2]])\n",
    "\n",
    "    # Predict and classify\n",
    "    prediction = model.predict(user_inputs)\n",
    "    classification = int(prediction[0][0] >= 0.5)  # Threshold at 0.5\n",
    "    print(f\"Perceptron classification: {classification}\")\n",
    "\n",
    "# Classify user input\n",
    "user_input_classification()\n"
   ]
  },
  {
   "cell_type": "markdown",
   "metadata": {
    "id": "vYNv9TcZNdca"
   },
   "source": [
    "**Linear Regression**"
   ]
  },
  {
   "cell_type": "code",
   "execution_count": null,
   "metadata": {
    "colab": {
     "base_uri": "https://localhost:8080/"
    },
    "id": "2ggRAU9pM0Bm",
    "outputId": "0b7b5748-99ad-46a4-b881-75e227dc873c"
   },
   "outputs": [
    {
     "name": "stderr",
     "output_type": "stream",
     "text": [
      "/usr/local/lib/python3.10/dist-packages/keras/src/layers/core/dense.py:87: UserWarning: Do not pass an `input_shape`/`input_dim` argument to a layer. When using Sequential models, prefer using an `Input(shape)` object as the first layer in the model instead.\n",
      "  super().__init__(activity_regularizer=activity_regularizer, **kwargs)\n"
     ]
    },
    {
     "name": "stdout",
     "output_type": "stream",
     "text": [
      "Enter a value for prediction: 6\n",
      "\u001b[1m1/1\u001b[0m \u001b[32m━━━━━━━━━━━━━━━━━━━━\u001b[0m\u001b[37m\u001b[0m \u001b[1m0s\u001b[0m 33ms/step\n",
      "Predicted output for input 6.0: 13.009330749511719\n"
     ]
    }
   ],
   "source": [
    "# Import necessary libraries\n",
    "import numpy as np\n",
    "from tensorflow.keras.models import Sequential\n",
    "from tensorflow.keras.layers import Dense\n",
    "import tensorflow as tf\n",
    "\n",
    "# Sample data: X (input), Y (output) for training\n",
    "# Example: Let's assume we're predicting the output of a linear equation y = 2x + 1\n",
    "X = np.array([1, 2, 3, 4, 5], dtype=float)\n",
    "Y = np.array([3, 5, 7, 9, 11], dtype=float)\n",
    "\n",
    "# Build the ANN model\n",
    "model = Sequential([\n",
    "    Dense(units=1, input_shape=(1,), activation='linear')\n",
    "    ])\n",
    "\n",
    "# Compile the model with SGD optimizer\n",
    "model.compile(optimizer='sgd', loss='mean_squared_error')\n",
    "\n",
    "# Train the model without displaying the epochs\n",
    "model.fit(X, Y, epochs=1000, verbose=0)\n",
    "\n",
    "# Predict the output for a user input\n",
    "user_input = float(input(\"Enter a value for prediction: \"))\n",
    "prediction = model.predict(np.array([[user_input]]))\n",
    "\n",
    "# Display the prediction\n",
    "print(f\"Predicted output for input {user_input}: {prediction[0][0]}\")\n"
   ]
  },
  {
   "cell_type": "code",
   "execution_count": null,
   "metadata": {},
   "outputs": [],
   "source": []
  },
  {
   "cell_type": "code",
   "execution_count": 92,
   "metadata": {},
   "outputs": [
    {
     "data": {
      "text/plain": [
       "array([[0.52775714, 0.9460802 ],\n",
       "       [0.32624897, 0.84459279],\n",
       "       [0.2654785 , 0.96214005],\n",
       "       [0.66825226, 0.47532581],\n",
       "       [0.16353675, 0.91633457],\n",
       "       [0.89164228, 0.96208198],\n",
       "       [0.00999623, 0.4286716 ],\n",
       "       [0.72974264, 0.66967343],\n",
       "       [0.18495765, 0.61770311],\n",
       "       [0.65782998, 0.68907958]])"
      ]
     },
     "execution_count": 92,
     "metadata": {},
     "output_type": "execute_result"
    }
   ],
   "source": [
    "X = np.random.rand(10,2)\n",
    "X"
   ]
  },
  {
   "cell_type": "code",
   "execution_count": null,
   "metadata": {},
   "outputs": [],
   "source": []
  },
  {
   "cell_type": "code",
   "execution_count": 110,
   "metadata": {},
   "outputs": [
    {
     "name": "stdout",
     "output_type": "stream",
     "text": [
      "[[0.5488135  0.71518937]\n",
      " [0.60276338 0.54488318]\n",
      " [0.4236548  0.64589411]\n",
      " [0.43758721 0.891773  ]\n",
      " [0.96366276 0.38344152]\n",
      " [0.79172504 0.52889492]\n",
      " [0.56804456 0.92559664]\n",
      " [0.07103606 0.0871293 ]\n",
      " [0.0202184  0.83261985]\n",
      " [0.77815675 0.87001215]]\n"
     ]
    }
   ],
   "source": [
    "np.random.seed(0)\n",
    "X = np.random.rand(10,2) # row,column\n",
    "print(X)\n"
   ]
  },
  {
   "cell_type": "code",
   "execution_count": 106,
   "metadata": {},
   "outputs": [
    {
     "ename": "ValueError",
     "evalue": "The truth value of an array with more than one element is ambiguous. Use a.any() or a.all()",
     "output_type": "error",
     "traceback": [
      "\u001b[1;31m---------------------------------------------------------------------------\u001b[0m",
      "\u001b[1;31mValueError\u001b[0m                                Traceback (most recent call last)",
      "Cell \u001b[1;32mIn[106], line 1\u001b[0m\n\u001b[1;32m----> 1\u001b[0m y \u001b[38;5;241m=\u001b[39m [\u001b[38;5;241m1\u001b[39m \u001b[38;5;28;01mif\u001b[39;00m X[\u001b[38;5;241m0\u001b[39m]\u001b[38;5;241m>\u001b[39m\u001b[38;5;241m=\u001b[39m\u001b[38;5;241m0.5\u001b[39m \u001b[38;5;129;01mand\u001b[39;00m X[\u001b[38;5;241m1\u001b[39m] \u001b[38;5;241m>\u001b[39m\u001b[38;5;241m=\u001b[39m \u001b[38;5;241m5\u001b[39m \u001b[38;5;28;01melse\u001b[39;00m \u001b[38;5;241m0\u001b[39m \u001b[38;5;28;01mfor\u001b[39;00m x \u001b[38;5;129;01min\u001b[39;00m X]\n\u001b[0;32m      2\u001b[0m \u001b[38;5;28mprint\u001b[39m(y)\n",
      "Cell \u001b[1;32mIn[106], line 1\u001b[0m, in \u001b[0;36m<listcomp>\u001b[1;34m(.0)\u001b[0m\n\u001b[1;32m----> 1\u001b[0m y \u001b[38;5;241m=\u001b[39m [\u001b[38;5;241m1\u001b[39m \u001b[38;5;28;01mif\u001b[39;00m X[\u001b[38;5;241m0\u001b[39m]\u001b[38;5;241m>\u001b[39m\u001b[38;5;241m=\u001b[39m\u001b[38;5;241m0.5\u001b[39m \u001b[38;5;129;01mand\u001b[39;00m X[\u001b[38;5;241m1\u001b[39m] \u001b[38;5;241m>\u001b[39m\u001b[38;5;241m=\u001b[39m \u001b[38;5;241m5\u001b[39m \u001b[38;5;28;01melse\u001b[39;00m \u001b[38;5;241m0\u001b[39m \u001b[38;5;28;01mfor\u001b[39;00m x \u001b[38;5;129;01min\u001b[39;00m X]\n\u001b[0;32m      2\u001b[0m \u001b[38;5;28mprint\u001b[39m(y)\n",
      "\u001b[1;31mValueError\u001b[0m: The truth value of an array with more than one element is ambiguous. Use a.any() or a.all()"
     ]
    }
   ],
   "source": [
    "y = np.array[1 if X[0]>=0.5 and X[1] >= 5 else 0 for x in X]\n",
    "print(y)\n",
    "\n",
    "y = np.array([1 if x[0] >= 0.5 and  x[1] >= 0.5 else 0 for x in X])"
   ]
  },
  {
   "cell_type": "code",
   "execution_count": 125,
   "metadata": {},
   "outputs": [
    {
     "name": "stdout",
     "output_type": "stream",
     "text": [
      "0.5488135039273248 0.7151893663724195\n",
      "0.6027633760716439 0.5448831829968969\n",
      "0.4236547993389047 0.6458941130666561\n",
      "0.4375872112626925 0.8917730007820798\n",
      "0.9636627605010293 0.3834415188257777\n",
      "0.7917250380826646 0.5288949197529045\n",
      "0.5680445610939323 0.925596638292661\n",
      "0.07103605819788694 0.08712929970154071\n",
      "0.02021839744032572 0.832619845547938\n",
      "0.7781567509498505 0.8700121482468192\n"
     ]
    }
   ],
   "source": [
    "for x in X:\n",
    "    print(x[0], x[1])"
   ]
  },
  {
   "cell_type": "code",
   "execution_count": 127,
   "metadata": {},
   "outputs": [
    {
     "name": "stdout",
     "output_type": "stream",
     "text": [
      "1\n",
      "1\n",
      "0\n",
      "0\n",
      "0\n",
      "1\n",
      "1\n",
      "0\n",
      "0\n",
      "1\n"
     ]
    }
   ],
   "source": [
    "for x in X:\n",
    "    if x[0]>=0.5 and x[1]>=0.5: #0.5488135039273248 0.7151893663724195\n",
    "        print(1)\n",
    "    else:\n",
    "        print(0)"
   ]
  },
  {
   "cell_type": "code",
   "execution_count": null,
   "metadata": {},
   "outputs": [],
   "source": []
  },
  {
   "cell_type": "code",
   "execution_count": 30,
   "metadata": {},
   "outputs": [
    {
     "name": "stdout",
     "output_type": "stream",
     "text": [
      "[5]\n",
      "<class 'numpy.ndarray'>\n"
     ]
    },
    {
     "data": {
      "text/plain": [
       "1"
      ]
     },
     "execution_count": 30,
     "metadata": {},
     "output_type": "execute_result"
    }
   ],
   "source": [
    "import numpy as np\n",
    "a = 5\n",
    "b = np.array([a])\n",
    "print(b)\n",
    "print(type(b))\n",
    "b.ndim"
   ]
  },
  {
   "cell_type": "code",
   "execution_count": 32,
   "metadata": {},
   "outputs": [
    {
     "name": "stdout",
     "output_type": "stream",
     "text": [
      "5\n",
      "<class 'numpy.ndarray'>\n"
     ]
    },
    {
     "data": {
      "text/plain": [
       "0"
      ]
     },
     "execution_count": 32,
     "metadata": {},
     "output_type": "execute_result"
    }
   ],
   "source": [
    "b = np.array(a)\n",
    "print(b)\n",
    "print(type(b))\n",
    "b.ndim"
   ]
  },
  {
   "cell_type": "code",
   "execution_count": 34,
   "metadata": {},
   "outputs": [],
   "source": [
    "# important\n",
    "\n",
    "# [user_input] -> 1d\n",
    "# np.array([user_input]) -> 1d array\n",
    "\n",
    "# model.prediction(np.array([user_input]))"
   ]
  },
  {
   "cell_type": "code",
   "execution_count": 38,
   "metadata": {},
   "outputs": [
    {
     "name": "stdin",
     "output_type": "stream",
     "text": [
      "enter a number 1\n",
      "enter a number 2\n"
     ]
    },
    {
     "name": "stdout",
     "output_type": "stream",
     "text": [
      "[[1 2]]\n",
      "<class 'numpy.ndarray'>\n"
     ]
    }
   ],
   "source": [
    "# code with 2 input nodes/neurons\n",
    "\n",
    "a = int(input(\"enter a number\"))\n",
    "b = int(input(\"enter a number\"))\n",
    "c = np.array([[a,b]])\n",
    "print(c)\n",
    "print(type(c))"
   ]
  },
  {
   "cell_type": "code",
   "execution_count": 1,
   "metadata": {},
   "outputs": [
    {
     "ename": "NameError",
     "evalue": "name 'c' is not defined",
     "output_type": "error",
     "traceback": [
      "\u001b[1;31m---------------------------------------------------------------------------\u001b[0m",
      "\u001b[1;31mNameError\u001b[0m                                 Traceback (most recent call last)",
      "Cell \u001b[1;32mIn[1], line 1\u001b[0m\n\u001b[1;32m----> 1\u001b[0m \u001b[38;5;28mprint\u001b[39m(c[\u001b[38;5;241m0\u001b[39m][\u001b[38;5;241m0\u001b[39m])  \u001b[38;5;66;03m#  0th row, 0th col\u001b[39;00m\n\u001b[0;32m      2\u001b[0m \u001b[38;5;28mprint\u001b[39m(c[\u001b[38;5;241m0\u001b[39m][\u001b[38;5;241m1\u001b[39m])\n",
      "\u001b[1;31mNameError\u001b[0m: name 'c' is not defined"
     ]
    }
   ],
   "source": [
    "print(c[0][0])  #  0th row, 0th col\n",
    "print(c[0][1])"
   ]
  },
  {
   "cell_type": "code",
   "execution_count": null,
   "metadata": {},
   "outputs": [],
   "source": []
  },
  {
   "cell_type": "code",
   "execution_count": null,
   "metadata": {},
   "outputs": [],
   "source": []
  },
  {
   "cell_type": "code",
   "execution_count": null,
   "metadata": {},
   "outputs": [],
   "source": []
  }
 ],
 "metadata": {
  "colab": {
   "provenance": []
  },
  "kernelspec": {
   "display_name": "Python 3 (ipykernel)",
   "language": "python",
   "name": "python3"
  },
  "language_info": {
   "codemirror_mode": {
    "name": "ipython",
    "version": 3
   },
   "file_extension": ".py",
   "mimetype": "text/x-python",
   "name": "python",
   "nbconvert_exporter": "python",
   "pygments_lexer": "ipython3",
   "version": "3.11.7"
  }
 },
 "nbformat": 4,
 "nbformat_minor": 4
}
