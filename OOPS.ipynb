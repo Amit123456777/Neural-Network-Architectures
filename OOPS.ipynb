{
 "cells": [
  {
   "cell_type": "markdown",
   "id": "88ba015f",
   "metadata": {},
   "source": [
    "# OOPS"
   ]
  },
  {
   "cell_type": "code",
   "execution_count": 1,
   "id": "e85305ef",
   "metadata": {},
   "outputs": [],
   "source": [
    "# Question"
   ]
  },
  {
   "cell_type": "code",
   "execution_count": 2,
   "id": "887cf097",
   "metadata": {},
   "outputs": [],
   "source": [
    "# create a class named details which stores name,age, gender, class and sectionsof students. \n",
    "# call the class for 3 students."
   ]
  },
  {
   "cell_type": "code",
   "execution_count": 3,
   "id": "31e1bca5",
   "metadata": {},
   "outputs": [],
   "source": [
    "# class details:\n",
    "    "
   ]
  },
  {
   "cell_type": "code",
   "execution_count": 4,
   "id": "58f9fbf1",
   "metadata": {},
   "outputs": [],
   "source": [
    "class details:\n",
    "    def __init__(self,name,age,gender,classes,sections):\n",
    "        self.name = name\n",
    "        self.age=age\n",
    "        self.gender=gender\n",
    "        self.classes=classes\n",
    "        self.section=section\n",
    "\n",
    "# init means initailization"
   ]
  },
  {
   "cell_type": "code",
   "execution_count": 5,
   "id": "ab27c5de",
   "metadata": {},
   "outputs": [],
   "source": [
    "name = (\"gaurav\",\"raj\",\"riya\")\n",
    "age = (16,17,18)\n",
    "gender = (\"male\",\"male\",\"female\")\n",
    "classes = (10,11,12)\n",
    "section = (\"a\",\"b\",\"a\")"
   ]
  },
  {
   "cell_type": "code",
   "execution_count": 6,
   "id": "649555ca",
   "metadata": {},
   "outputs": [
    {
     "name": "stdout",
     "output_type": "stream",
     "text": [
      "(10, 11, 12)\n"
     ]
    }
   ],
   "source": [
    "print(classes)"
   ]
  },
  {
   "cell_type": "code",
   "execution_count": 7,
   "id": "25f0fc22",
   "metadata": {},
   "outputs": [],
   "source": [
    "class details:\n",
    "    def __init__(self,name,age):\n",
    "        self.name = name\n",
    "        self.age=age\n",
    "\n",
    "        def display(self):\n",
    "            return f\" {self.name} {self.age}\""
   ]
  },
  {
   "cell_type": "code",
   "execution_count": 8,
   "id": "c05221ef",
   "metadata": {},
   "outputs": [
    {
     "name": "stdout",
     "output_type": "stream",
     "text": [
      "gaurav\n",
      "16\n"
     ]
    }
   ],
   "source": [
    "s = details(\"gaurav\",16)\n",
    "print(s.name)\n",
    "print(s.age)"
   ]
  },
  {
   "cell_type": "markdown",
   "id": "43de0d77",
   "metadata": {},
   "source": [
    "# creating class of students"
   ]
  },
  {
   "cell_type": "code",
   "execution_count": 9,
   "id": "6e974956",
   "metadata": {},
   "outputs": [],
   "source": [
    "class details:\n",
    "    def __init__(self,name,age):\n",
    "        self.name = name\n",
    "        self.age=age\n",
    "\n",
    "    def display(self):\n",
    "            return self.name,self.age"
   ]
  },
  {
   "cell_type": "code",
   "execution_count": 10,
   "id": "7fa8dcb4",
   "metadata": {},
   "outputs": [
    {
     "name": "stdout",
     "output_type": "stream",
     "text": [
      "amit 19\n"
     ]
    }
   ],
   "source": [
    "s = details(\"amit\",19)\n",
    "print(s.name, s.age)"
   ]
  },
  {
   "cell_type": "code",
   "execution_count": 11,
   "id": "62314074",
   "metadata": {},
   "outputs": [
    {
     "name": "stdout",
     "output_type": "stream",
     "text": [
      "('amit', 19)\n"
     ]
    }
   ],
   "source": [
    "print(s.display())"
   ]
  },
  {
   "cell_type": "markdown",
   "id": "9bb0ed14",
   "metadata": {},
   "source": [
    "# creating l, b, h"
   ]
  },
  {
   "cell_type": "code",
   "execution_count": 13,
   "id": "1abf2926",
   "metadata": {},
   "outputs": [],
   "source": [
    "class area:\n",
    "    def __init__(self,l,b):  # constructor\n",
    "        self.l = l\n",
    "        self.b= b\n",
    "        \n",
    "    def display(self):\n",
    "            return 2*(self.l+self.b)"
   ]
  },
  {
   "cell_type": "code",
   "execution_count": 14,
   "id": "a56120ab",
   "metadata": {},
   "outputs": [
    {
     "name": "stdout",
     "output_type": "stream",
     "text": [
      "12\n"
     ]
    }
   ],
   "source": [
    "ob = area(2,4) # object\n",
    "print(ob.display())"
   ]
  },
  {
   "cell_type": "code",
   "execution_count": 15,
   "id": "1cad935c",
   "metadata": {},
   "outputs": [
    {
     "name": "stdout",
     "output_type": "stream",
     "text": [
      "30\n"
     ]
    }
   ],
   "source": [
    "# without init\n",
    "#<--------------->\n",
    "\n",
    "class area:\n",
    "    def display(self, l, b):\n",
    "        return 2 * (l + b)\n",
    "\n",
    "ob = area()\n",
    "print(ob.display(5, 10))\n"
   ]
  },
  {
   "cell_type": "code",
   "execution_count": 16,
   "id": "6e1682bb",
   "metadata": {},
   "outputs": [],
   "source": [
    "######### CODE #) "
   ]
  },
  {
   "cell_type": "code",
   "execution_count": 17,
   "id": "4b62d73c",
   "metadata": {},
   "outputs": [],
   "source": [
    "class area:\n",
    "    def __init__(self,l,b):  # constructor\n",
    "        self.l = l\n",
    "        self.b= b\n",
    "        \n",
    "    def display(self):\n",
    "            return 2*(self.l+self.b)"
   ]
  },
  {
   "cell_type": "code",
   "execution_count": 18,
   "id": "ce2fcced",
   "metadata": {},
   "outputs": [
    {
     "name": "stdout",
     "output_type": "stream",
     "text": [
      "enter length value2\n",
      "enter length value4\n",
      "12\n"
     ]
    }
   ],
   "source": [
    "l = int(input(\"enter length value\"))\n",
    "b = int(input(\"enter length value\"))\n",
    "ob = area(l,b) # object\n",
    "print(ob.display())"
   ]
  },
  {
   "cell_type": "markdown",
   "id": "cdf04282",
   "metadata": {},
   "source": [
    "# 18 oct 2024"
   ]
  },
  {
   "cell_type": "code",
   "execution_count": 19,
   "id": "f185c891",
   "metadata": {},
   "outputs": [],
   "source": [
    "# Create a class name student that initializes name and grades.\n",
    "\n",
    "# calculate and print total marks obtain, avg marks and percentage obtain by student."
   ]
  },
  {
   "cell_type": "code",
   "execution_count": 20,
   "id": "bc1e3c8d",
   "metadata": {},
   "outputs": [],
   "source": [
    "class student:\n",
    "    def __init__(self,name,grades,marks,avg_marks,percentaga):  # constructor\n",
    "        self.name = name\n",
    "        self.grades= grades\n",
    "        self.marks = marks\n",
    "        self.avg_marks = avg_marks\n",
    "        self.percentage = percentage\n",
    "\n",
    "\n",
    "    def display(self):\n",
    "            return f\"{self.name}, {self.grades}, {self.marks}, {self.avg_marks}, {percentage}\""
   ]
  },
  {
   "cell_type": "code",
   "execution_count": 21,
   "id": "d2de00d5",
   "metadata": {},
   "outputs": [],
   "source": [
    "name = \"raj\"\n",
    "grades = \"A\"\n",
    "\n",
    "sub1 = 90\n",
    "sub2 = 80\n",
    "sub3 = 90\n",
    "total_marks = sub1+sub2+sub3\n",
    "\n",
    "avg_marks= total_marks/3\n",
    "\n",
    "percentage = (total_marks/300)*100"
   ]
  },
  {
   "cell_type": "code",
   "execution_count": 22,
   "id": "b01f2984",
   "metadata": {},
   "outputs": [
    {
     "data": {
      "text/plain": [
       "'raj'"
      ]
     },
     "metadata": {},
     "output_type": "display_data"
    },
    {
     "data": {
      "text/plain": [
       "'A'"
      ]
     },
     "metadata": {},
     "output_type": "display_data"
    },
    {
     "data": {
      "text/plain": [
       "260"
      ]
     },
     "metadata": {},
     "output_type": "display_data"
    },
    {
     "data": {
      "text/plain": [
       "86.66666666666667"
      ]
     },
     "metadata": {},
     "output_type": "display_data"
    },
    {
     "data": {
      "text/plain": [
       "86.66666666666667"
      ]
     },
     "metadata": {},
     "output_type": "display_data"
    }
   ],
   "source": [
    "ob = display(name, grades,total_marks,avg_marks,percentage) # creating \n",
    "ob"
   ]
  },
  {
   "cell_type": "code",
   "execution_count": 23,
   "id": "aa13d492",
   "metadata": {},
   "outputs": [
    {
     "name": "stdout",
     "output_type": "stream",
     "text": [
      "Name: Aliya\n",
      "Total Marks: 427\n",
      "Average Marks: 85.4\n",
      "Percentage: 85.39999999999999\n"
     ]
    }
   ],
   "source": [
    "class Student:\n",
    "    def __init__(self, name, M1, M2, M3, M4, M5):\n",
    "        self.name = name\n",
    "        self.M1 = M1\n",
    "        self.M2 = M2\n",
    "        self.M3 = M3\n",
    "        self.M4 = M4\n",
    "        self.M5 = M5\n",
    "\n",
    "    def total_marks(self):\n",
    "        return self.M1 + self.M2 + self.M3 + self.M4 + self.M5\n",
    "    \n",
    "    def avg_marks(self):\n",
    "        return self.total_marks() / 5 \n",
    "    \n",
    "    def percentage(self):\n",
    "        total_possible_marks = 100 * 5  \n",
    "        return (self.total_marks() / total_possible_marks) * 100\n",
    "    \n",
    "    def result(self):\n",
    "        print(f\"Name: {self.name}\")\n",
    "        print(f\"Total Marks: {self.total_marks()}\")\n",
    "        print(f\"Average Marks: {self.avg_marks()}\")\n",
    "        print(f\"Percentage: {self.percentage()}\")\n",
    "\n",
    "student1 = Student(\"Aliya\", 63, 92, 96, 81, 95)\n",
    "student1.result()\n"
   ]
  },
  {
   "cell_type": "code",
   "execution_count": null,
   "id": "d6ce955a",
   "metadata": {},
   "outputs": [],
   "source": []
  }
 ],
 "metadata": {
  "kernelspec": {
   "display_name": "Python 3 (ipykernel)",
   "language": "python",
   "name": "python3"
  },
  "language_info": {
   "codemirror_mode": {
    "name": "ipython",
    "version": 3
   },
   "file_extension": ".py",
   "mimetype": "text/x-python",
   "name": "python",
   "nbconvert_exporter": "python",
   "pygments_lexer": "ipython3",
   "version": "3.11.7"
  }
 },
 "nbformat": 4,
 "nbformat_minor": 5
}
